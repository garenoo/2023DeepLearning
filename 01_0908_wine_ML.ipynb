{
 "cells": [
  {
   "cell_type": "code",
   "execution_count": 1,
   "id": "6764b783",
   "metadata": {},
   "outputs": [],
   "source": [
    "import seaborn as sns\n",
    "\n",
    "import numpy as np\n",
    "\n",
    "import pandas as pd\n",
    "\n",
    "import seaborn as sns\n",
    "\n",
    "import matplotlib.pyplot as plt\n",
    "\n",
    "import warnings\n",
    "warnings.filterwarnings('ignore')"
   ]
  },
  {
   "cell_type": "code",
   "execution_count": 3,
   "id": "0c05aa32",
   "metadata": {},
   "outputs": [
    {
     "name": "stdout",
     "output_type": "stream",
     "text": [
      "    Label Alcohol Malic acid   Ash Alcalinity of ash Magnesium Total phenols  \\\n",
      "0       1   14.23       1.71  2.43              15.6       127           2.8   \n",
      "1       1    13.2       1.78  2.14              11.2       100          2.65   \n",
      "2       1   13.16       2.36  2.67              18.6       101           2.8   \n",
      "3       1   14.37       1.95   2.5              16.8       113          3.85   \n",
      "4       1   13.24       2.59  2.87                21       118           2.8   \n",
      "..    ...     ...        ...   ...               ...       ...           ...   \n",
      "173     3   13.71       5.65  2.45              20.5        95          1.68   \n",
      "174     3    13.4       3.91  2.48                23       102           1.8   \n",
      "175     3   13.27       4.28  2.26                20       120          1.59   \n",
      "176     3   13.17       2.59  2.37                20       120          1.65   \n",
      "177     3   14.13        4.1  2.74              24.5        96          2.05   \n",
      "\n",
      "    Flavanoids Nonflavanoid phenols Proanthocyanins Color intensity   Hue  \\\n",
      "0         3.06                  .28            2.29            5.64  1.04   \n",
      "1         2.76                  .26            1.28            4.38  1.05   \n",
      "2         3.24                   .3            2.81            5.68  1.03   \n",
      "3         3.49                  .24            2.18             7.8   .86   \n",
      "4         2.69                  .39            1.82            4.32  1.04   \n",
      "..         ...                  ...             ...             ...   ...   \n",
      "173        .61                  .52            1.06             7.7   .64   \n",
      "174        .75                  .43            1.41             7.3    .7   \n",
      "175        .69                  .43            1.35            10.2   .59   \n",
      "176        .68                  .53            1.46             9.3    .6   \n",
      "177        .76                  .56            1.35             9.2   .61   \n",
      "\n",
      "    OD280/OD315 of diluted wines Proline  \n",
      "0                           3.92    1065  \n",
      "1                            3.4    1050  \n",
      "2                           3.17    1185  \n",
      "3                           3.45    1480  \n",
      "4                           2.93     735  \n",
      "..                           ...     ...  \n",
      "173                         1.74     740  \n",
      "174                         1.56     750  \n",
      "175                         1.56     835  \n",
      "176                         1.62     840  \n",
      "177                          1.6     560  \n",
      "\n",
      "[178 rows x 14 columns]\n"
     ]
    }
   ],
   "source": [
    "import pandas as pd\n",
    "\n",
    "# 메모장 파일 불러오기\n",
    "with open('wine.data.txt', 'r', encoding='utf-8') as file:\n",
    "    data = file.readlines()\n",
    "\n",
    "# 데이터를 파싱하여 DataFrame 만들기\n",
    "data_list = []\n",
    "for line in data:\n",
    "    columns = line.strip().split(',')  # 쉼표로 열을 분할하고 양쪽 공백 제거\n",
    "    data_list.append(columns)\n",
    "\n",
    "# 열 이름 지정\n",
    "column_names = [\"Label\", \"Alcohol\", \"Malic acid\", \"Ash\", \"Alcalinity of ash\", \"Magnesium\",\n",
    "           \"Total phenols\", \"Flavanoids\", \"Nonflavanoid phenols\", \"Proanthocyanins\",\n",
    "           \"Color intensity\", \"Hue\", \"OD280/OD315 of diluted wines\", \"Proline\"]  # 실제 열 이름으로 바꿔주세요\n",
    "\n",
    "# DataFrame 생성 및 열 이름 설정\n",
    "df = pd.DataFrame(data_list, columns=column_names)\n",
    "\n",
    "# DataFrame 출력\n",
    "print(df)\n"
   ]
  },
  {
   "cell_type": "code",
   "execution_count": 4,
   "id": "204106b0",
   "metadata": {},
   "outputs": [],
   "source": [
    "x = df\n",
    "x = x.drop(columns=['Label'], axis=1)"
   ]
  },
  {
   "cell_type": "code",
   "execution_count": 5,
   "id": "aa726607",
   "metadata": {},
   "outputs": [],
   "source": [
    "y = df['Label']"
   ]
  },
  {
   "cell_type": "code",
   "execution_count": 9,
   "id": "fd45e942",
   "metadata": {},
   "outputs": [
    {
     "data": {
      "text/plain": [
       "0      1\n",
       "1      1\n",
       "2      1\n",
       "3      1\n",
       "4      1\n",
       "      ..\n",
       "173    3\n",
       "174    3\n",
       "175    3\n",
       "176    3\n",
       "177    3\n",
       "Name: Label, Length: 178, dtype: object"
      ]
     },
     "execution_count": 9,
     "metadata": {},
     "output_type": "execute_result"
    }
   ],
   "source": [
    "y"
   ]
  },
  {
   "cell_type": "code",
   "execution_count": 10,
   "id": "3d73dcee",
   "metadata": {},
   "outputs": [
    {
     "data": {
      "text/plain": [
       "Label                           0\n",
       "Alcohol                         0\n",
       "Malic acid                      0\n",
       "Ash                             0\n",
       "Alcalinity of ash               0\n",
       "Magnesium                       0\n",
       "Total phenols                   0\n",
       "Flavanoids                      0\n",
       "Nonflavanoid phenols            0\n",
       "Proanthocyanins                 0\n",
       "Color intensity                 0\n",
       "Hue                             0\n",
       "OD280/OD315 of diluted wines    0\n",
       "Proline                         0\n",
       "dtype: int64"
      ]
     },
     "execution_count": 10,
     "metadata": {},
     "output_type": "execute_result"
    }
   ],
   "source": [
    "df.isna().sum()"
   ]
  },
  {
   "cell_type": "code",
   "execution_count": 11,
   "id": "94868440",
   "metadata": {},
   "outputs": [
    {
     "data": {
      "text/plain": [
       "((133, 13), (45, 13), (133,), (45,))"
      ]
     },
     "execution_count": 11,
     "metadata": {},
     "output_type": "execute_result"
    }
   ],
   "source": [
    "# train & test\n",
    "\n",
    "from sklearn.model_selection import train_test_split\n",
    "\n",
    "x_train, x_test, y_train, y_test = train_test_split(x, y, test_size=0.25, random_state=0)\n",
    "\n",
    "x_train.shape, x_test.shape, y_train.shape, y_test.shape"
   ]
  },
  {
   "cell_type": "code",
   "execution_count": 12,
   "id": "dcd3dda8",
   "metadata": {},
   "outputs": [
    {
     "name": "stdout",
     "output_type": "stream",
     "text": [
      "\n",
      "--- SVM Classifier ---\n",
      "0.8222222222222222\n",
      "[[15  0  1]\n",
      " [ 0 17  4]\n",
      " [ 0  3  5]]\n"
     ]
    }
   ],
   "source": [
    "# SVM\n",
    "\n",
    "from sklearn.metrics import accuracy_score\n",
    "from sklearn.metrics import confusion_matrix\n",
    "from sklearn.svm import SVC\n",
    "\n",
    "clf_svm = SVC(random_state=0)\n",
    "clf_svm.fit(x_train, y_train)\n",
    "\n",
    "pred_svm = clf_svm.predict(x_test)\n",
    "\n",
    "print(\"\\n--- SVM Classifier ---\")\n",
    "print(accuracy_score(y_test, pred_svm))\n",
    "print(confusion_matrix(y_test, pred_svm))"
   ]
  },
  {
   "cell_type": "code",
   "execution_count": 13,
   "id": "29599b6c",
   "metadata": {},
   "outputs": [
    {
     "name": "stdout",
     "output_type": "stream",
     "text": [
      "\n",
      "--- Logistic Regression Classifier ---\n",
      "0.9333333333333333\n",
      "[[14  2  0]\n",
      " [ 0 20  1]\n",
      " [ 0  0  8]]\n"
     ]
    }
   ],
   "source": [
    "# LR\n",
    "\n",
    "from sklearn.linear_model import LogisticRegression\n",
    "\n",
    "clf_lr = LogisticRegression(random_state=0)\n",
    "clf_lr.fit(x_train, y_train)\n",
    "\n",
    "pred_lr = clf_lr.predict(x_test)\n",
    "\n",
    "print (\"\\n--- Logistic Regression Classifier ---\")\n",
    "print (accuracy_score(y_test, pred_lr))\n",
    "print (confusion_matrix(y_test, pred_lr))"
   ]
  },
  {
   "cell_type": "code",
   "execution_count": 14,
   "id": "a011a48d",
   "metadata": {},
   "outputs": [
    {
     "name": "stdout",
     "output_type": "stream",
     "text": [
      "\n",
      "--- Decision Tree Classifier ---\n",
      "0.9333333333333333\n",
      "[[14  2  0]\n",
      " [ 0 20  1]\n",
      " [ 0  0  8]]\n"
     ]
    }
   ],
   "source": [
    "# DT\n",
    "\n",
    "from sklearn.tree import DecisionTreeClassifier\n",
    "\n",
    "clf_dt = DecisionTreeClassifier(random_state=0)\n",
    "clf_dt.fit(x_train, y_train)\n",
    "\n",
    "pred_dt = clf_dt.predict(x_test)\n",
    "\n",
    "print (\"\\n--- Decision Tree Classifier ---\")\n",
    "print (accuracy_score(y_test, pred_dt))\n",
    "print (confusion_matrix(y_test, pred_dt))"
   ]
  },
  {
   "cell_type": "code",
   "execution_count": 15,
   "id": "6bbf6ef5",
   "metadata": {},
   "outputs": [
    {
     "name": "stdout",
     "output_type": "stream",
     "text": [
      "\n",
      "--- Random Forest ---\n",
      "0.9777777777777777\n",
      "[[16  0  0]\n",
      " [ 0 20  1]\n",
      " [ 0  0  8]]\n"
     ]
    }
   ],
   "source": [
    "# RT\n",
    "\n",
    "from sklearn.ensemble import RandomForestClassifier\n",
    "from sklearn.metrics import accuracy_score\n",
    "import pandas as pd\n",
    "\n",
    "print (\"\\n--- Random Forest ---\")\n",
    "rf_clf = RandomForestClassifier(random_state=0)\n",
    "rf_clf.fit(x_train, y_train)\n",
    "pred = rf_clf.predict(x_test)\n",
    "print(accuracy_score(y_test,pred))\n",
    "print (confusion_matrix(y_test, pred))"
   ]
  },
  {
   "cell_type": "code",
   "execution_count": null,
   "id": "62d5c868",
   "metadata": {},
   "outputs": [],
   "source": []
  }
 ],
 "metadata": {
  "kernelspec": {
   "display_name": "Python 3 (ipykernel)",
   "language": "python",
   "name": "python3"
  },
  "language_info": {
   "codemirror_mode": {
    "name": "ipython",
    "version": 3
   },
   "file_extension": ".py",
   "mimetype": "text/x-python",
   "name": "python",
   "nbconvert_exporter": "python",
   "pygments_lexer": "ipython3",
   "version": "3.9.13"
  }
 },
 "nbformat": 4,
 "nbformat_minor": 5
}
