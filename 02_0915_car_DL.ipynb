{
 "cells": [
  {
   "cell_type": "code",
   "execution_count": 30,
   "metadata": {},
   "outputs": [],
   "source": [
    "import pandas as pd\n",
    "import matplotlib.pyplot as plt\n",
    "import numpy as np\n",
    "import pandas as pd\n",
    "import seaborn as sns\n",
    "from sklearn.model_selection import train_test_split\n",
    "from sklearn import metrics\n",
    "import tensorflow as tf\n",
    "from tensorflow import keras"
   ]
  },
  {
   "cell_type": "code",
   "execution_count": 31,
   "metadata": {},
   "outputs": [
    {
     "data": {
      "text/html": [
       "<div>\n",
       "<style scoped>\n",
       "    .dataframe tbody tr th:only-of-type {\n",
       "        vertical-align: middle;\n",
       "    }\n",
       "\n",
       "    .dataframe tbody tr th {\n",
       "        vertical-align: top;\n",
       "    }\n",
       "\n",
       "    .dataframe thead th {\n",
       "        text-align: right;\n",
       "    }\n",
       "</style>\n",
       "<table border=\"1\" class=\"dataframe\">\n",
       "  <thead>\n",
       "    <tr style=\"text-align: right;\">\n",
       "      <th></th>\n",
       "      <th>buying</th>\n",
       "      <th>maint</th>\n",
       "      <th>doors</th>\n",
       "      <th>persons</th>\n",
       "      <th>lug_boot</th>\n",
       "      <th>safety</th>\n",
       "      <th>Label</th>\n",
       "    </tr>\n",
       "  </thead>\n",
       "  <tbody>\n",
       "    <tr>\n",
       "      <th>0</th>\n",
       "      <td>vhigh</td>\n",
       "      <td>vhigh</td>\n",
       "      <td>2</td>\n",
       "      <td>2</td>\n",
       "      <td>small</td>\n",
       "      <td>low</td>\n",
       "      <td>unacc</td>\n",
       "    </tr>\n",
       "    <tr>\n",
       "      <th>1</th>\n",
       "      <td>vhigh</td>\n",
       "      <td>vhigh</td>\n",
       "      <td>2</td>\n",
       "      <td>2</td>\n",
       "      <td>small</td>\n",
       "      <td>med</td>\n",
       "      <td>unacc</td>\n",
       "    </tr>\n",
       "    <tr>\n",
       "      <th>2</th>\n",
       "      <td>vhigh</td>\n",
       "      <td>vhigh</td>\n",
       "      <td>2</td>\n",
       "      <td>2</td>\n",
       "      <td>small</td>\n",
       "      <td>high</td>\n",
       "      <td>unacc</td>\n",
       "    </tr>\n",
       "    <tr>\n",
       "      <th>3</th>\n",
       "      <td>vhigh</td>\n",
       "      <td>vhigh</td>\n",
       "      <td>2</td>\n",
       "      <td>2</td>\n",
       "      <td>med</td>\n",
       "      <td>low</td>\n",
       "      <td>unacc</td>\n",
       "    </tr>\n",
       "    <tr>\n",
       "      <th>4</th>\n",
       "      <td>vhigh</td>\n",
       "      <td>vhigh</td>\n",
       "      <td>2</td>\n",
       "      <td>2</td>\n",
       "      <td>med</td>\n",
       "      <td>med</td>\n",
       "      <td>unacc</td>\n",
       "    </tr>\n",
       "  </tbody>\n",
       "</table>\n",
       "</div>"
      ],
      "text/plain": [
       "  buying  maint doors persons lug_boot safety  Label\n",
       "0  vhigh  vhigh     2       2    small    low  unacc\n",
       "1  vhigh  vhigh     2       2    small    med  unacc\n",
       "2  vhigh  vhigh     2       2    small   high  unacc\n",
       "3  vhigh  vhigh     2       2      med    low  unacc\n",
       "4  vhigh  vhigh     2       2      med    med  unacc"
      ]
     },
     "execution_count": 31,
     "metadata": {},
     "output_type": "execute_result"
    }
   ],
   "source": [
    "import pandas as pd\n",
    "\n",
    "# 메모장 파일 불러오기\n",
    "with open('car.data', 'r', encoding='utf-8') as file:\n",
    "    data = file.readlines()\n",
    "\n",
    "# 데이터를 파싱하여 DataFrame 만들기\n",
    "data_list = []\n",
    "for line in data:\n",
    "    columns = line.strip().split(',')  # 쉼표로 열을 분할하고 양쪽 공백 제거\n",
    "    data_list.append(columns)\n",
    "\n",
    "# 열 이름 지정\n",
    "column_names = [\"buying\", \"maint\", \"doors\", \"persons\", \"lug_boot\", \"safety\", \"Label\"]  # 실제 열 이름으로 바꿔주세요\n",
    "\n",
    "# DataFrame 생성 및 열 이름 설정\n",
    "df = pd.DataFrame(data_list, columns=column_names)\n",
    "\n",
    "# DataFrame 출력\n",
    "# print(df)\n",
    "df.head()"
   ]
  },
  {
   "cell_type": "code",
   "execution_count": 32,
   "metadata": {},
   "outputs": [
    {
     "data": {
      "text/plain": [
       "pandas.core.frame.DataFrame"
      ]
     },
     "execution_count": 32,
     "metadata": {},
     "output_type": "execute_result"
    }
   ],
   "source": [
    "type(df)"
   ]
  },
  {
   "cell_type": "code",
   "execution_count": 33,
   "metadata": {},
   "outputs": [
    {
     "data": {
      "text/plain": [
       "Index(['buying', 'maint', 'doors', 'persons', 'lug_boot', 'safety', 'Label'], dtype='object')"
      ]
     },
     "execution_count": 33,
     "metadata": {},
     "output_type": "execute_result"
    }
   ],
   "source": [
    "df.columns"
   ]
  },
  {
   "cell_type": "code",
   "execution_count": 34,
   "metadata": {},
   "outputs": [
    {
     "data": {
      "text/html": [
       "<div>\n",
       "<style scoped>\n",
       "    .dataframe tbody tr th:only-of-type {\n",
       "        vertical-align: middle;\n",
       "    }\n",
       "\n",
       "    .dataframe tbody tr th {\n",
       "        vertical-align: top;\n",
       "    }\n",
       "\n",
       "    .dataframe thead th {\n",
       "        text-align: right;\n",
       "    }\n",
       "</style>\n",
       "<table border=\"1\" class=\"dataframe\">\n",
       "  <thead>\n",
       "    <tr style=\"text-align: right;\">\n",
       "      <th></th>\n",
       "      <th>buying</th>\n",
       "      <th>maint</th>\n",
       "      <th>doors</th>\n",
       "      <th>persons</th>\n",
       "      <th>lug_boot</th>\n",
       "      <th>safety</th>\n",
       "      <th>Label</th>\n",
       "    </tr>\n",
       "  </thead>\n",
       "  <tbody>\n",
       "    <tr>\n",
       "      <th>0</th>\n",
       "      <td>3</td>\n",
       "      <td>3</td>\n",
       "      <td>0</td>\n",
       "      <td>0</td>\n",
       "      <td>2</td>\n",
       "      <td>1</td>\n",
       "      <td>2</td>\n",
       "    </tr>\n",
       "    <tr>\n",
       "      <th>1</th>\n",
       "      <td>3</td>\n",
       "      <td>3</td>\n",
       "      <td>0</td>\n",
       "      <td>0</td>\n",
       "      <td>2</td>\n",
       "      <td>2</td>\n",
       "      <td>2</td>\n",
       "    </tr>\n",
       "    <tr>\n",
       "      <th>2</th>\n",
       "      <td>3</td>\n",
       "      <td>3</td>\n",
       "      <td>0</td>\n",
       "      <td>0</td>\n",
       "      <td>2</td>\n",
       "      <td>0</td>\n",
       "      <td>2</td>\n",
       "    </tr>\n",
       "    <tr>\n",
       "      <th>3</th>\n",
       "      <td>3</td>\n",
       "      <td>3</td>\n",
       "      <td>0</td>\n",
       "      <td>0</td>\n",
       "      <td>1</td>\n",
       "      <td>1</td>\n",
       "      <td>2</td>\n",
       "    </tr>\n",
       "    <tr>\n",
       "      <th>4</th>\n",
       "      <td>3</td>\n",
       "      <td>3</td>\n",
       "      <td>0</td>\n",
       "      <td>0</td>\n",
       "      <td>1</td>\n",
       "      <td>2</td>\n",
       "      <td>2</td>\n",
       "    </tr>\n",
       "  </tbody>\n",
       "</table>\n",
       "</div>"
      ],
      "text/plain": [
       "   buying  maint  doors  persons  lug_boot  safety  Label\n",
       "0       3      3      0        0         2       1      2\n",
       "1       3      3      0        0         2       2      2\n",
       "2       3      3      0        0         2       0      2\n",
       "3       3      3      0        0         1       1      2\n",
       "4       3      3      0        0         1       2      2"
      ]
     },
     "execution_count": 34,
     "metadata": {},
     "output_type": "execute_result"
    }
   ],
   "source": [
    "from sklearn.preprocessing import LabelEncoder\n",
    "\n",
    "le=LabelEncoder()\n",
    "\n",
    "for i in df.columns:\n",
    "\n",
    "    df[i]=le.fit_transform(df[i])\n",
    "\n",
    "df.head()"
   ]
  },
  {
   "cell_type": "code",
   "execution_count": 35,
   "metadata": {},
   "outputs": [
    {
     "data": {
      "text/plain": [
       "buying      0\n",
       "maint       0\n",
       "doors       0\n",
       "persons     0\n",
       "lug_boot    0\n",
       "safety      0\n",
       "Label       0\n",
       "dtype: int64"
      ]
     },
     "execution_count": 35,
     "metadata": {},
     "output_type": "execute_result"
    }
   ],
   "source": [
    "df.isnull().sum()"
   ]
  },
  {
   "cell_type": "code",
   "execution_count": 54,
   "metadata": {},
   "outputs": [],
   "source": [
    "#Splitting the data into training and test test\n",
    "# 지난주처럼 drop해서 해도 되는데, 그럼 넘파이로 바꿔줘야함\n",
    "# stratify: 훈련세트와 테스트 세트를 나눌때 균형적으로 섞이게 해서 정확도를 높이기 위한 것\n",
    "    # 샘플링 편향 방지\n",
    "X = df.iloc[:,0:6].values\n",
    "y = df.iloc[:,6].values\n",
    "\n",
    "from sklearn.preprocessing import LabelEncoder\n",
    "encoder = LabelEncoder()\n",
    "y1 = encoder.fit_transform(y)\n",
    "\n",
    "Y = pd.get_dummies(y).values\n",
    "\n",
    "\n",
    "from sklearn.model_selection import train_test_split\n",
    "X_train,X_test, y_train,y_test = train_test_split(X,Y,test_size=0.2, stratify=Y, random_state=0) "
   ]
  },
  {
   "cell_type": "code",
   "execution_count": 55,
   "metadata": {},
   "outputs": [
    {
     "data": {
      "text/plain": [
       "array([[3, 3, 0, 0, 2, 1],\n",
       "       [3, 3, 0, 0, 2, 2],\n",
       "       [3, 3, 0, 0, 2, 0],\n",
       "       ...,\n",
       "       [1, 1, 3, 2, 0, 1],\n",
       "       [1, 1, 3, 2, 0, 2],\n",
       "       [1, 1, 3, 2, 0, 0]])"
      ]
     },
     "execution_count": 55,
     "metadata": {},
     "output_type": "execute_result"
    }
   ],
   "source": [
    "X"
   ]
  },
  {
   "cell_type": "code",
   "execution_count": 56,
   "metadata": {},
   "outputs": [
    {
     "data": {
      "text/plain": [
       "array([[0, 0, 1, 0],\n",
       "       [0, 0, 1, 0],\n",
       "       [0, 0, 1, 0],\n",
       "       ...,\n",
       "       [0, 0, 1, 0],\n",
       "       [0, 1, 0, 0],\n",
       "       [0, 0, 0, 1]], dtype=uint8)"
      ]
     },
     "execution_count": 56,
     "metadata": {},
     "output_type": "execute_result"
    }
   ],
   "source": [
    "Y"
   ]
  },
  {
   "cell_type": "code",
   "execution_count": 72,
   "metadata": {},
   "outputs": [
    {
     "name": "stdout",
     "output_type": "stream",
     "text": [
      "Model: \"sequential_11\"\n",
      "_________________________________________________________________\n",
      " Layer (type)                Output Shape              Param #   \n",
      "=================================================================\n",
      " dense_44 (Dense)            (None, 5)                 35        \n",
      "                                                                 \n",
      " dense_45 (Dense)            (None, 5)                 30        \n",
      "                                                                 \n",
      " dense_46 (Dense)            (None, 5)                 30        \n",
      "                                                                 \n",
      " dense_47 (Dense)            (None, 4)                 24        \n",
      "                                                                 \n",
      "=================================================================\n",
      "Total params: 119\n",
      "Trainable params: 119\n",
      "Non-trainable params: 0\n",
      "_________________________________________________________________\n"
     ]
    },
    {
     "name": "stderr",
     "output_type": "stream",
     "text": [
      "c:\\Users\\khw\\anaconda3\\lib\\site-packages\\keras\\optimizers\\optimizer_v2\\adam.py:117: UserWarning: The `lr` argument is deprecated, use `learning_rate` instead.\n",
      "  super().__init__(name, **kwargs)\n"
     ]
    }
   ],
   "source": [
    "from keras.models import Sequential\n",
    "from keras.layers import Dense\n",
    "from keras.optimizers import SGD,Adam\n",
    "\n",
    "\n",
    "model = Sequential()\n",
    "\n",
    "# 입력 column 6개, 출력층 class개수 4개\n",
    "# 입력값 두개는 같아야함\n",
    "model.add(Dense(5,input_shape=(6,),activation='relu'))\n",
    "model.add(Dense(5,activation='relu'))\n",
    "model.add(Dense(5,activation='relu'))\n",
    "model.add(Dense(4,activation='softmax'))\n",
    "\n",
    "model.compile(Adam(lr=0.02),'binary_crossentropy',metrics=['accuracy'])\n",
    "\n",
    "model.summary()"
   ]
  },
  {
   "cell_type": "code",
   "execution_count": 73,
   "metadata": {},
   "outputs": [
    {
     "name": "stdout",
     "output_type": "stream",
     "text": [
      "Epoch 1/100\n",
      "44/44 [==============================] - 2s 13ms/step - loss: 0.5482 - accuracy: 0.6635 - val_loss: 0.3695 - val_accuracy: 0.6994\n",
      "Epoch 2/100\n",
      "44/44 [==============================] - 0s 6ms/step - loss: 0.3548 - accuracy: 0.7004 - val_loss: 0.3495 - val_accuracy: 0.6994\n",
      "Epoch 3/100\n",
      "44/44 [==============================] - 0s 6ms/step - loss: 0.3314 - accuracy: 0.7004 - val_loss: 0.3278 - val_accuracy: 0.6994\n",
      "Epoch 4/100\n",
      "44/44 [==============================] - 0s 6ms/step - loss: 0.3103 - accuracy: 0.7012 - val_loss: 0.3044 - val_accuracy: 0.6994\n",
      "Epoch 5/100\n",
      "44/44 [==============================] - 0s 8ms/step - loss: 0.2762 - accuracy: 0.7438 - val_loss: 0.2763 - val_accuracy: 0.7457\n",
      "Epoch 6/100\n",
      "44/44 [==============================] - 0s 8ms/step - loss: 0.2449 - accuracy: 0.7786 - val_loss: 0.2228 - val_accuracy: 0.7977\n",
      "Epoch 7/100\n",
      "44/44 [==============================] - 0s 6ms/step - loss: 0.2229 - accuracy: 0.7938 - val_loss: 0.2022 - val_accuracy: 0.8035\n",
      "Epoch 8/100\n",
      "44/44 [==============================] - 0s 6ms/step - loss: 0.1933 - accuracy: 0.8234 - val_loss: 0.1883 - val_accuracy: 0.8208\n",
      "Epoch 9/100\n",
      "44/44 [==============================] - 0s 6ms/step - loss: 0.1905 - accuracy: 0.8227 - val_loss: 0.1848 - val_accuracy: 0.8353\n",
      "Epoch 10/100\n",
      "44/44 [==============================] - 0s 6ms/step - loss: 0.1833 - accuracy: 0.8343 - val_loss: 0.1985 - val_accuracy: 0.8121\n",
      "Epoch 11/100\n",
      "44/44 [==============================] - 0s 9ms/step - loss: 0.1815 - accuracy: 0.8350 - val_loss: 0.1769 - val_accuracy: 0.8439\n",
      "Epoch 12/100\n",
      "44/44 [==============================] - 0s 7ms/step - loss: 0.1870 - accuracy: 0.8292 - val_loss: 0.2072 - val_accuracy: 0.8064\n",
      "Epoch 13/100\n",
      "44/44 [==============================] - 0s 6ms/step - loss: 0.1883 - accuracy: 0.8271 - val_loss: 0.1765 - val_accuracy: 0.8266\n",
      "Epoch 14/100\n",
      "44/44 [==============================] - 1s 12ms/step - loss: 0.1837 - accuracy: 0.8307 - val_loss: 0.1740 - val_accuracy: 0.8382\n",
      "Epoch 15/100\n",
      "44/44 [==============================] - 0s 10ms/step - loss: 0.1789 - accuracy: 0.8321 - val_loss: 0.1719 - val_accuracy: 0.8324\n",
      "Epoch 16/100\n",
      "44/44 [==============================] - 0s 11ms/step - loss: 0.1807 - accuracy: 0.8292 - val_loss: 0.1707 - val_accuracy: 0.8353\n",
      "Epoch 17/100\n",
      "44/44 [==============================] - 0s 9ms/step - loss: 0.1732 - accuracy: 0.8336 - val_loss: 0.1745 - val_accuracy: 0.8266\n",
      "Epoch 18/100\n",
      "44/44 [==============================] - 0s 7ms/step - loss: 0.1776 - accuracy: 0.8307 - val_loss: 0.1796 - val_accuracy: 0.8179\n",
      "Epoch 19/100\n",
      "44/44 [==============================] - 0s 9ms/step - loss: 0.1729 - accuracy: 0.8350 - val_loss: 0.1757 - val_accuracy: 0.8208\n",
      "Epoch 20/100\n",
      "44/44 [==============================] - 0s 7ms/step - loss: 0.1744 - accuracy: 0.8343 - val_loss: 0.1736 - val_accuracy: 0.8237\n",
      "Epoch 21/100\n",
      "44/44 [==============================] - 0s 8ms/step - loss: 0.1694 - accuracy: 0.8350 - val_loss: 0.1844 - val_accuracy: 0.8266\n",
      "Epoch 22/100\n",
      "44/44 [==============================] - 0s 7ms/step - loss: 0.1748 - accuracy: 0.8300 - val_loss: 0.1652 - val_accuracy: 0.8439\n",
      "Epoch 23/100\n",
      "44/44 [==============================] - 0s 8ms/step - loss: 0.1697 - accuracy: 0.8386 - val_loss: 0.1668 - val_accuracy: 0.8266\n",
      "Epoch 24/100\n",
      "44/44 [==============================] - 0s 7ms/step - loss: 0.1783 - accuracy: 0.8242 - val_loss: 0.1813 - val_accuracy: 0.8324\n",
      "Epoch 25/100\n",
      "44/44 [==============================] - 0s 8ms/step - loss: 0.1684 - accuracy: 0.8365 - val_loss: 0.1909 - val_accuracy: 0.8150\n",
      "Epoch 26/100\n",
      "44/44 [==============================] - 0s 7ms/step - loss: 0.1751 - accuracy: 0.8307 - val_loss: 0.1811 - val_accuracy: 0.8121\n",
      "Epoch 27/100\n",
      "44/44 [==============================] - 0s 7ms/step - loss: 0.1691 - accuracy: 0.8307 - val_loss: 0.1709 - val_accuracy: 0.8266\n",
      "Epoch 28/100\n",
      "44/44 [==============================] - 0s 8ms/step - loss: 0.1645 - accuracy: 0.8336 - val_loss: 0.1639 - val_accuracy: 0.8353\n",
      "Epoch 29/100\n",
      "44/44 [==============================] - 0s 8ms/step - loss: 0.1637 - accuracy: 0.8423 - val_loss: 0.1631 - val_accuracy: 0.8468\n",
      "Epoch 30/100\n",
      "44/44 [==============================] - 0s 8ms/step - loss: 0.1630 - accuracy: 0.8401 - val_loss: 0.1961 - val_accuracy: 0.8092\n",
      "Epoch 31/100\n",
      "44/44 [==============================] - 0s 8ms/step - loss: 0.1630 - accuracy: 0.8452 - val_loss: 0.1597 - val_accuracy: 0.8497\n",
      "Epoch 32/100\n",
      "44/44 [==============================] - 0s 7ms/step - loss: 0.1742 - accuracy: 0.8300 - val_loss: 0.1680 - val_accuracy: 0.8382\n",
      "Epoch 33/100\n",
      "44/44 [==============================] - 0s 6ms/step - loss: 0.1639 - accuracy: 0.8415 - val_loss: 0.1716 - val_accuracy: 0.8324\n",
      "Epoch 34/100\n",
      "44/44 [==============================] - 0s 6ms/step - loss: 0.1668 - accuracy: 0.8379 - val_loss: 0.1785 - val_accuracy: 0.8266\n",
      "Epoch 35/100\n",
      "44/44 [==============================] - 0s 9ms/step - loss: 0.1585 - accuracy: 0.8452 - val_loss: 0.1907 - val_accuracy: 0.8353\n",
      "Epoch 36/100\n",
      "44/44 [==============================] - 0s 4ms/step - loss: 0.1623 - accuracy: 0.8437 - val_loss: 0.1657 - val_accuracy: 0.8382\n",
      "Epoch 37/100\n",
      "44/44 [==============================] - 0s 8ms/step - loss: 0.1634 - accuracy: 0.8394 - val_loss: 0.1687 - val_accuracy: 0.8266\n",
      "Epoch 38/100\n",
      "44/44 [==============================] - 0s 7ms/step - loss: 0.1669 - accuracy: 0.8394 - val_loss: 0.1641 - val_accuracy: 0.8266\n",
      "Epoch 39/100\n",
      "44/44 [==============================] - 0s 7ms/step - loss: 0.1596 - accuracy: 0.8452 - val_loss: 0.1769 - val_accuracy: 0.8353\n",
      "Epoch 40/100\n",
      "44/44 [==============================] - 0s 7ms/step - loss: 0.1619 - accuracy: 0.8444 - val_loss: 0.1852 - val_accuracy: 0.8295\n",
      "Epoch 41/100\n",
      "44/44 [==============================] - 0s 6ms/step - loss: 0.1668 - accuracy: 0.8357 - val_loss: 0.1642 - val_accuracy: 0.8353\n",
      "Epoch 42/100\n",
      "44/44 [==============================] - 0s 6ms/step - loss: 0.1604 - accuracy: 0.8430 - val_loss: 0.1667 - val_accuracy: 0.8410\n",
      "Epoch 43/100\n",
      "44/44 [==============================] - 0s 7ms/step - loss: 0.1607 - accuracy: 0.8437 - val_loss: 0.1918 - val_accuracy: 0.8179\n",
      "Epoch 44/100\n",
      "44/44 [==============================] - 0s 7ms/step - loss: 0.1603 - accuracy: 0.8502 - val_loss: 0.1676 - val_accuracy: 0.8353\n",
      "Epoch 45/100\n",
      "44/44 [==============================] - 0s 8ms/step - loss: 0.1561 - accuracy: 0.8452 - val_loss: 0.1653 - val_accuracy: 0.8353\n",
      "Epoch 46/100\n",
      "44/44 [==============================] - 0s 7ms/step - loss: 0.1666 - accuracy: 0.8372 - val_loss: 0.1740 - val_accuracy: 0.8353\n",
      "Epoch 47/100\n",
      "44/44 [==============================] - 0s 7ms/step - loss: 0.1616 - accuracy: 0.8444 - val_loss: 0.1711 - val_accuracy: 0.8324\n",
      "Epoch 48/100\n",
      "44/44 [==============================] - 0s 6ms/step - loss: 0.1575 - accuracy: 0.8466 - val_loss: 0.1802 - val_accuracy: 0.8295\n",
      "Epoch 49/100\n",
      "44/44 [==============================] - 0s 7ms/step - loss: 0.1603 - accuracy: 0.8430 - val_loss: 0.1719 - val_accuracy: 0.8150\n",
      "Epoch 50/100\n",
      "44/44 [==============================] - 0s 7ms/step - loss: 0.1602 - accuracy: 0.8437 - val_loss: 0.1689 - val_accuracy: 0.8295\n",
      "Epoch 51/100\n",
      "44/44 [==============================] - 0s 7ms/step - loss: 0.1579 - accuracy: 0.8444 - val_loss: 0.1657 - val_accuracy: 0.8353\n",
      "Epoch 52/100\n",
      "44/44 [==============================] - 0s 6ms/step - loss: 0.1539 - accuracy: 0.8524 - val_loss: 0.1669 - val_accuracy: 0.8324\n",
      "Epoch 53/100\n",
      "44/44 [==============================] - 0s 7ms/step - loss: 0.1592 - accuracy: 0.8372 - val_loss: 0.1602 - val_accuracy: 0.8439\n",
      "Epoch 54/100\n",
      "44/44 [==============================] - 0s 6ms/step - loss: 0.1549 - accuracy: 0.8437 - val_loss: 0.1779 - val_accuracy: 0.8208\n",
      "Epoch 55/100\n",
      "44/44 [==============================] - 0s 6ms/step - loss: 0.1548 - accuracy: 0.8473 - val_loss: 0.1571 - val_accuracy: 0.8353\n",
      "Epoch 56/100\n",
      "44/44 [==============================] - 0s 8ms/step - loss: 0.1560 - accuracy: 0.8430 - val_loss: 0.1861 - val_accuracy: 0.8121\n",
      "Epoch 57/100\n",
      "44/44 [==============================] - 0s 7ms/step - loss: 0.1580 - accuracy: 0.8415 - val_loss: 0.1693 - val_accuracy: 0.8237\n",
      "Epoch 58/100\n",
      "44/44 [==============================] - 0s 7ms/step - loss: 0.1601 - accuracy: 0.8430 - val_loss: 0.1841 - val_accuracy: 0.8150\n",
      "Epoch 59/100\n",
      "44/44 [==============================] - 0s 7ms/step - loss: 0.1573 - accuracy: 0.8408 - val_loss: 0.1672 - val_accuracy: 0.8266\n",
      "Epoch 60/100\n",
      "44/44 [==============================] - 0s 6ms/step - loss: 0.1525 - accuracy: 0.8459 - val_loss: 0.1941 - val_accuracy: 0.8092\n",
      "Epoch 61/100\n",
      "44/44 [==============================] - 0s 7ms/step - loss: 0.1600 - accuracy: 0.8408 - val_loss: 0.1605 - val_accuracy: 0.8468\n",
      "Epoch 62/100\n",
      "44/44 [==============================] - 0s 7ms/step - loss: 0.1661 - accuracy: 0.8401 - val_loss: 0.1813 - val_accuracy: 0.8179\n",
      "Epoch 63/100\n",
      "44/44 [==============================] - 0s 8ms/step - loss: 0.1655 - accuracy: 0.8350 - val_loss: 0.1595 - val_accuracy: 0.8468\n",
      "Epoch 64/100\n",
      "44/44 [==============================] - 0s 7ms/step - loss: 0.1627 - accuracy: 0.8394 - val_loss: 0.1555 - val_accuracy: 0.8439\n",
      "Epoch 65/100\n",
      "44/44 [==============================] - 0s 6ms/step - loss: 0.1590 - accuracy: 0.8401 - val_loss: 0.1638 - val_accuracy: 0.8382\n",
      "Epoch 66/100\n",
      "44/44 [==============================] - 0s 7ms/step - loss: 0.1513 - accuracy: 0.8466 - val_loss: 0.1581 - val_accuracy: 0.8497\n",
      "Epoch 67/100\n",
      "44/44 [==============================] - 0s 6ms/step - loss: 0.1501 - accuracy: 0.8480 - val_loss: 0.1523 - val_accuracy: 0.8468\n",
      "Epoch 68/100\n",
      "44/44 [==============================] - 0s 7ms/step - loss: 0.1545 - accuracy: 0.8415 - val_loss: 0.1710 - val_accuracy: 0.8237\n",
      "Epoch 69/100\n",
      "44/44 [==============================] - 0s 7ms/step - loss: 0.1501 - accuracy: 0.8488 - val_loss: 0.1705 - val_accuracy: 0.8208\n",
      "Epoch 70/100\n",
      "44/44 [==============================] - 0s 7ms/step - loss: 0.1491 - accuracy: 0.8473 - val_loss: 0.1720 - val_accuracy: 0.8295\n",
      "Epoch 71/100\n",
      "44/44 [==============================] - 0s 6ms/step - loss: 0.1454 - accuracy: 0.8531 - val_loss: 0.1561 - val_accuracy: 0.8353\n",
      "Epoch 72/100\n",
      "44/44 [==============================] - 0s 6ms/step - loss: 0.1526 - accuracy: 0.8495 - val_loss: 0.1592 - val_accuracy: 0.8295\n",
      "Epoch 73/100\n",
      "44/44 [==============================] - 0s 6ms/step - loss: 0.1525 - accuracy: 0.8444 - val_loss: 0.1618 - val_accuracy: 0.8353\n",
      "Epoch 74/100\n",
      "44/44 [==============================] - 0s 7ms/step - loss: 0.1512 - accuracy: 0.8437 - val_loss: 0.1571 - val_accuracy: 0.8382\n",
      "Epoch 75/100\n",
      "44/44 [==============================] - 0s 6ms/step - loss: 0.1472 - accuracy: 0.8502 - val_loss: 0.1544 - val_accuracy: 0.8382\n",
      "Epoch 76/100\n",
      "44/44 [==============================] - 0s 6ms/step - loss: 0.1470 - accuracy: 0.8509 - val_loss: 0.1540 - val_accuracy: 0.8295\n",
      "Epoch 77/100\n",
      "44/44 [==============================] - 0s 7ms/step - loss: 0.1498 - accuracy: 0.8480 - val_loss: 0.2150 - val_accuracy: 0.7948\n",
      "Epoch 78/100\n",
      "44/44 [==============================] - 0s 6ms/step - loss: 0.1585 - accuracy: 0.8459 - val_loss: 0.1551 - val_accuracy: 0.8410\n",
      "Epoch 79/100\n",
      "44/44 [==============================] - 0s 7ms/step - loss: 0.1558 - accuracy: 0.8444 - val_loss: 0.1679 - val_accuracy: 0.8324\n",
      "Epoch 80/100\n",
      "44/44 [==============================] - 0s 6ms/step - loss: 0.1713 - accuracy: 0.8365 - val_loss: 0.1851 - val_accuracy: 0.8150\n",
      "Epoch 81/100\n",
      "44/44 [==============================] - 0s 7ms/step - loss: 0.1554 - accuracy: 0.8444 - val_loss: 0.1521 - val_accuracy: 0.8353\n",
      "Epoch 82/100\n",
      "44/44 [==============================] - 0s 8ms/step - loss: 0.1514 - accuracy: 0.8473 - val_loss: 0.1592 - val_accuracy: 0.8353\n",
      "Epoch 83/100\n",
      "44/44 [==============================] - 0s 7ms/step - loss: 0.1489 - accuracy: 0.8517 - val_loss: 0.1615 - val_accuracy: 0.8382\n",
      "Epoch 84/100\n",
      "44/44 [==============================] - 0s 7ms/step - loss: 0.1475 - accuracy: 0.8473 - val_loss: 0.1550 - val_accuracy: 0.8439\n",
      "Epoch 85/100\n",
      "44/44 [==============================] - 0s 7ms/step - loss: 0.1509 - accuracy: 0.8538 - val_loss: 0.1495 - val_accuracy: 0.8410\n",
      "Epoch 86/100\n",
      "44/44 [==============================] - 0s 7ms/step - loss: 0.1654 - accuracy: 0.8314 - val_loss: 0.1774 - val_accuracy: 0.8208\n",
      "Epoch 87/100\n",
      "44/44 [==============================] - 0s 6ms/step - loss: 0.1468 - accuracy: 0.8502 - val_loss: 0.1523 - val_accuracy: 0.8382\n",
      "Epoch 88/100\n",
      "44/44 [==============================] - 0s 6ms/step - loss: 0.1436 - accuracy: 0.8546 - val_loss: 0.1530 - val_accuracy: 0.8468\n",
      "Epoch 89/100\n",
      "44/44 [==============================] - 0s 6ms/step - loss: 0.1444 - accuracy: 0.8538 - val_loss: 0.1565 - val_accuracy: 0.8324\n",
      "Epoch 90/100\n",
      "44/44 [==============================] - 0s 7ms/step - loss: 0.1449 - accuracy: 0.8509 - val_loss: 0.1507 - val_accuracy: 0.8353\n",
      "Epoch 91/100\n",
      "44/44 [==============================] - 0s 6ms/step - loss: 0.1477 - accuracy: 0.8459 - val_loss: 0.1636 - val_accuracy: 0.8295\n",
      "Epoch 92/100\n",
      "44/44 [==============================] - 0s 6ms/step - loss: 0.1477 - accuracy: 0.8480 - val_loss: 0.1714 - val_accuracy: 0.8237\n",
      "Epoch 93/100\n",
      "44/44 [==============================] - 0s 8ms/step - loss: 0.1477 - accuracy: 0.8488 - val_loss: 0.1447 - val_accuracy: 0.8497\n",
      "Epoch 94/100\n",
      "44/44 [==============================] - 0s 5ms/step - loss: 0.1471 - accuracy: 0.8495 - val_loss: 0.1491 - val_accuracy: 0.8526\n",
      "Epoch 95/100\n",
      "44/44 [==============================] - 0s 6ms/step - loss: 0.1471 - accuracy: 0.8480 - val_loss: 0.1558 - val_accuracy: 0.8237\n",
      "Epoch 96/100\n",
      "44/44 [==============================] - 0s 6ms/step - loss: 0.1462 - accuracy: 0.8502 - val_loss: 0.1493 - val_accuracy: 0.8555\n",
      "Epoch 97/100\n",
      "44/44 [==============================] - 0s 6ms/step - loss: 0.1455 - accuracy: 0.8517 - val_loss: 0.1495 - val_accuracy: 0.8497\n",
      "Epoch 98/100\n",
      "44/44 [==============================] - 0s 6ms/step - loss: 0.1530 - accuracy: 0.8459 - val_loss: 0.1571 - val_accuracy: 0.8324\n",
      "Epoch 99/100\n",
      "44/44 [==============================] - 0s 6ms/step - loss: 0.1434 - accuracy: 0.8517 - val_loss: 0.1528 - val_accuracy: 0.8497\n",
      "Epoch 100/100\n",
      "44/44 [==============================] - 0s 7ms/step - loss: 0.1509 - accuracy: 0.8488 - val_loss: 0.1505 - val_accuracy: 0.8439\n",
      "11/11 [==============================] - 0s 3ms/step\n"
     ]
    }
   ],
   "source": [
    "model_history=model.fit(x=X_train, y=y_train, epochs=100, batch_size=32, validation_data=(X_test,y_test))\n",
    "y_pred = model.predict(X_test)\n",
    "\n",
    "y_test_class = np.argmax(y_test,axis=1)\n",
    "y_pred_class = np.argmax(y_pred,axis=1)"
   ]
  },
  {
   "cell_type": "code",
   "execution_count": 74,
   "metadata": {},
   "outputs": [
    {
     "data": {
      "image/png": "[encoded data removed]",
      "text/plain": [
       "<Figure size 640x480 with 1 Axes>"
      ]
     },
     "metadata": {},
     "output_type": "display_data"
    }
   ],
   "source": [
    "import matplotlib.pyplot as plt\n",
    "import seaborn as sns\n",
    "\n",
    "loss =model_history.history['loss']\n",
    "val_loss =model_history.history['val_loss']\n",
    "epochs = range(1, len(loss) + 1)\n",
    "plt.plot(epochs, loss, 'y', label='Training loss')\n",
    "plt.plot(epochs, val_loss, 'r', label='Validation loss')\n",
    "plt.title('Training and validation loss')\n",
    "plt.xlabel('Epochs')\n",
    "plt.ylabel('Loss')\n",
    "plt.legend()\n",
    "plt.show()"
   ]
  },
  {
   "cell_type": "code",
   "execution_count": 75,
   "metadata": {},
   "outputs": [
    {
     "data": {
      "image/png": "[encoded data removed]",
      "text/plain": [
       "<Figure size 640x480 with 1 Axes>"
      ]
     },
     "metadata": {},
     "output_type": "display_data"
    }
   ],
   "source": [
    "acc =model_history.history['accuracy']\n",
    "val_acc =model_history.history['val_accuracy']\n",
    "plt.plot(epochs, acc, 'y', label='Training acc')\n",
    "plt.plot(epochs, val_acc, 'r', label='Validation acc')\n",
    "plt.title('Training and validation accuracy')\n",
    "plt.xlabel('Epochs')\n",
    "plt.ylabel('Accuracy')\n",
    "plt.legend()\n",
    "plt.show()"
   ]
  },
  {
   "cell_type": "code",
   "execution_count": 76,
   "metadata": {},
   "outputs": [
    {
     "name": "stdout",
     "output_type": "stream",
     "text": [
      "              precision    recall  f1-score   support\n",
      "\n",
      "           0       0.62      0.92      0.74        77\n",
      "           1       0.50      0.29      0.36        14\n",
      "           2       0.97      0.90      0.93       242\n",
      "           3       0.00      0.00      0.00        13\n",
      "\n",
      "    accuracy                           0.84       346\n",
      "   macro avg       0.52      0.53      0.51       346\n",
      "weighted avg       0.84      0.84      0.83       346\n",
      "\n",
      "[[ 71   0   6   0]\n",
      " [ 10   4   0   0]\n",
      " [ 23   2 217   0]\n",
      " [ 11   2   0   0]]\n"
     ]
    },
    {
     "name": "stderr",
     "output_type": "stream",
     "text": [
      "c:\\Users\\khw\\anaconda3\\lib\\site-packages\\sklearn\\metrics\\_classification.py:1318: UndefinedMetricWarning: Precision and F-score are ill-defined and being set to 0.0 in labels with no predicted samples. Use `zero_division` parameter to control this behavior.\n",
      "  _warn_prf(average, modifier, msg_start, len(result))\n",
      "c:\\Users\\khw\\anaconda3\\lib\\site-packages\\sklearn\\metrics\\_classification.py:1318: UndefinedMetricWarning: Precision and F-score are ill-defined and being set to 0.0 in labels with no predicted samples. Use `zero_division` parameter to control this behavior.\n",
      "  _warn_prf(average, modifier, msg_start, len(result))\n",
      "c:\\Users\\khw\\anaconda3\\lib\\site-packages\\sklearn\\metrics\\_classification.py:1318: UndefinedMetricWarning: Precision and F-score are ill-defined and being set to 0.0 in labels with no predicted samples. Use `zero_division` parameter to control this behavior.\n",
      "  _warn_prf(average, modifier, msg_start, len(result))\n"
     ]
    }
   ],
   "source": [
    "#Accuracy of the predicted values\n",
    "from sklearn.metrics import classification_report,confusion_matrix\n",
    "print(classification_report(y_test_class,y_pred_class))\n",
    "print(confusion_matrix(y_test_class,y_pred_class))"
   ]
  },
  {
   "cell_type": "code",
   "execution_count": null,
   "metadata": {},
   "outputs": [],
   "source": []
  }
 ],
 "metadata": {
  "kernelspec": {
   "display_name": "base",
   "language": "python",
   "name": "python3"
  },
  "language_info": {
   "codemirror_mode": {
    "name": "ipython",
    "version": 3
   },
   "file_extension": ".py",
   "mimetype": "text/x-python",
   "name": "python",
   "nbconvert_exporter": "python",
   "pygments_lexer": "ipython3",
   "version": "3.9.13"
  },
  "orig_nbformat": 4
 },
 "nbformat": 4,
 "nbformat_minor": 2
}
