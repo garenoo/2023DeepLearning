{
 "cells": [
  {
   "cell_type": "code",
   "execution_count": 1,
   "metadata": {},
   "outputs": [],
   "source": [
    "import numpy as np\n",
    "from numpy import mean\n",
    "from numpy import std\n",
    "from numpy import dstack\n",
    "\n",
    "import pandas as pd\n",
    "from pandas import read_csv\n",
    "from matplotlib import pyplot as plt\n",
    "from tensorflow.keras.models import Model\n",
    "\n",
    "import keras\n",
    "from keras.models import Sequential\n",
    "from keras.layers import Dense\n",
    "from keras.layers import Flatten\n",
    "from keras.layers import Dropout\n",
    "from keras.layers import LSTM\n",
    "from tensorflow.keras.layers import Activation\n",
    "from tensorflow.keras.models import Sequential\n",
    "from tensorflow.keras.layers import Conv1D, MaxPooling1D, Dense, Input, Dropout, Flatten, BatchNormalization\n",
    "from tensorflow.keras.layers import concatenate, Dropout\n",
    "from keras.utils import to_categorical\n",
    "from tensorflow.keras import optimizers\n",
    "import seaborn as sns"
   ]
  },
  {
   "cell_type": "code",
   "execution_count": 2,
   "metadata": {},
   "outputs": [],
   "source": [
    "# load a single file as a numpy array\n",
    "def load_file(filepath):\n",
    "    dataframe = read_csv(filepath, header=None, delim_whitespace=True)\n",
    "    return dataframe.values\n",
    " \n",
    "# load a list of files and return as a 3d numpy array\n",
    "def load_group(filenames, prefix=''):\n",
    "\tloaded = list()\n",
    "\tfor name in filenames:\n",
    "\t\tdata = load_file(prefix + name)\n",
    "\t\tloaded.append(data)\n",
    "\t# stack group so that features are the 3rd dimension\n",
    "\tloaded = dstack(loaded)\n",
    "\treturn loaded\n",
    " \n",
    "# load a dataset group, such as train or test\n",
    "def load_dataset_group(group, prefix=''):\n",
    "\tfilepath = prefix + group + '/Inertial Signals/'\n",
    "\t# load all 9 files as a single array\n",
    "\tfilenames = list()\n",
    "\t# total acceleration\n",
    "\tfilenames += ['total_acc_x_'+group+'.txt', 'total_acc_y_'+group+'.txt', 'total_acc_z_'+group+'.txt']\n",
    "\t# body acceleration\n",
    "\tfilenames += ['body_acc_x_'+group+'.txt', 'body_acc_y_'+group+'.txt', 'body_acc_z_'+group+'.txt']\n",
    "\t# body gyroscope\n",
    "\tfilenames += ['body_gyro_x_'+group+'.txt', 'body_gyro_y_'+group+'.txt', 'body_gyro_z_'+group+'.txt']\n",
    "\t# load input data\n",
    "\tX = load_group(filenames, filepath)\n",
    "\t# load class output\n",
    "\ty = load_file(prefix + group + '/y_'+group+'.txt')\n",
    "\treturn X, y\n",
    "\n",
    "# load the dataset, returns train and test X and y elements\n",
    "def load_dataset(prefix=''):\n",
    "    # load all train\n",
    "    trainX, trainy = load_dataset_group('train', prefix + 'C:/Users/khw/2023DeepLearning/human+activity+recognition+using+smartphones/UCI HAR Dataset/UCI HAR Dataset/')\n",
    "    # load all test\n",
    "    testX, testy = load_dataset_group('test', prefix + 'C:/Users/khw/2023DeepLearning/human+activity+recognition+using+smartphones/UCI HAR Dataset/UCI HAR Dataset/')\n",
    "    # zero-offset class values\n",
    "    trainy = trainy - 1\n",
    "    testy = testy - 1\n",
    "    # one hot encode y\n",
    "    trainy = to_categorical(trainy)\n",
    "    testy = to_categorical(testy)\n",
    "    print(\"trainX shape: \",trainX.shape)\n",
    "    print(\"trainy shape: \", trainy.shape)\n",
    "    print(\"testX shape: \", testX.shape)\n",
    "    print(\"testy shape: \", testy.shape)\n",
    "    return trainX, trainy, testX, testy"
   ]
  },
  {
   "cell_type": "code",
   "execution_count": 3,
   "metadata": {},
   "outputs": [
    {
     "name": "stdout",
     "output_type": "stream",
     "text": [
      "trainX shape:  (7352, 128, 9)\n",
      "trainy shape:  (7352, 6)\n",
      "testX shape:  (2947, 128, 9)\n",
      "testy shape:  (2947, 6)\n"
     ]
    }
   ],
   "source": [
    "trainX, trainy, testX, testy = load_dataset()"
   ]
  },
  {
   "cell_type": "code",
   "execution_count": 4,
   "metadata": {},
   "outputs": [],
   "source": [
    "## set number of epochs and batch size\n",
    "batch_size = 64\n",
    "validation_split = 0.2"
   ]
  },
  {
   "cell_type": "code",
   "execution_count": 5,
   "metadata": {},
   "outputs": [],
   "source": [
    "\n",
    "n_timesteps, n_features, n_outputs = trainX.shape[1], trainX.shape[2], trainy.shape[1]\n",
    "model = Sequential()\n",
    "model.add(LSTM(100, input_shape=(n_timesteps,n_features)))\n",
    "model.add(Dropout(0.5))\n",
    "model.add(Dense(100, activation='relu'))\n",
    "model.add(Dense(n_outputs, activation='softmax'))\n"
   ]
  },
  {
   "cell_type": "code",
   "execution_count": 6,
   "metadata": {},
   "outputs": [],
   "source": [
    "model.compile(loss='categorical_crossentropy', optimizer='adam', metrics=['accuracy'])"
   ]
  },
  {
   "cell_type": "code",
   "execution_count": 7,
   "metadata": {},
   "outputs": [
    {
     "name": "stdout",
     "output_type": "stream",
     "text": [
      "Epoch 1/10\n",
      "92/92 [==============================] - 23s 187ms/step - loss: 1.2125 - accuracy: 0.4841 - val_loss: 1.2441 - val_accuracy: 0.4385\n",
      "Epoch 2/10\n",
      "92/92 [==============================] - 15s 164ms/step - loss: 0.8880 - accuracy: 0.6286 - val_loss: 0.8739 - val_accuracy: 0.6873\n",
      "Epoch 3/10\n",
      "92/92 [==============================] - 19s 210ms/step - loss: 0.7314 - accuracy: 0.6946 - val_loss: 0.9278 - val_accuracy: 0.6832\n",
      "Epoch 4/10\n",
      "92/92 [==============================] - 16s 171ms/step - loss: 0.8801 - accuracy: 0.6342 - val_loss: 0.8489 - val_accuracy: 0.6424\n",
      "Epoch 5/10\n",
      "92/92 [==============================] - 16s 169ms/step - loss: 0.7665 - accuracy: 0.6808 - val_loss: 0.7015 - val_accuracy: 0.7322\n",
      "Epoch 6/10\n",
      "92/92 [==============================] - 16s 172ms/step - loss: 0.5307 - accuracy: 0.7774 - val_loss: 0.6332 - val_accuracy: 0.7865\n",
      "Epoch 7/10\n",
      "92/92 [==============================] - 16s 173ms/step - loss: 0.5039 - accuracy: 0.8002 - val_loss: 0.5633 - val_accuracy: 0.8035\n",
      "Epoch 8/10\n",
      "92/92 [==============================] - 16s 174ms/step - loss: 0.4207 - accuracy: 0.8405 - val_loss: 0.4865 - val_accuracy: 0.8518\n",
      "Epoch 9/10\n",
      "92/92 [==============================] - 17s 183ms/step - loss: 0.3344 - accuracy: 0.8849 - val_loss: 0.4147 - val_accuracy: 0.8810\n",
      "Epoch 10/10\n",
      "92/92 [==============================] - 17s 183ms/step - loss: 0.2505 - accuracy: 0.9170 - val_loss: 0.3583 - val_accuracy: 0.8919\n"
     ]
    }
   ],
   "source": [
    "# fit network\n",
    "train_epochs = 10\n",
    "history = model.fit(trainX, trainy, epochs=train_epochs, batch_size=batch_size, verbose=True,  validation_split=validation_split, shuffle=True)"
   ]
  },
  {
   "cell_type": "code",
   "execution_count": 8,
   "metadata": {},
   "outputs": [
    {
     "data": {
      "text/plain": [
       "<matplotlib.legend.Legend at 0x27f73c94e50>"
      ]
     },
     "execution_count": 8,
     "metadata": {},
     "output_type": "execute_result"
    },
    {
     "data": {
      "image/png": "[encoded data removed]",
      "text/plain": [
       "<Figure size 640x480 with 1 Axes>"
      ]
     },
     "metadata": {},
     "output_type": "display_data"
    }
   ],
   "source": [
    "plt.plot(history.history['loss'])\n",
    "plt.plot(history.history['val_loss'])\n",
    "plt.title('model loss')\n",
    "plt.ylabel('loss')\n",
    "plt.xlabel('epoch')\n",
    "plt.legend(['train', 'Validation'], loc='upper left')"
   ]
  },
  {
   "cell_type": "code",
   "execution_count": 9,
   "metadata": {},
   "outputs": [
    {
     "name": "stdout",
     "output_type": "stream",
     "text": [
      "Accuracy of the LSTM model 0.8808958530426025\n",
      "93/93 [==============================] - 5s 49ms/step\n"
     ]
    }
   ],
   "source": [
    "# evaluate model\n",
    "test_loss, test_accuracy = model.evaluate(testX, testy, batch_size=batch_size, verbose=0)\n",
    "print(\"Accuracy of the LSTM model\", test_accuracy)\n",
    "# Get the predictions for the test set\n",
    "predictions = model.predict(testX)"
   ]
  },
  {
   "cell_type": "code",
   "execution_count": 10,
   "metadata": {},
   "outputs": [
    {
     "data": {
      "text/plain": [
       "array([[1.8539553e-03, 4.9114204e-04, 1.8593904e-05, 6.7748451e-03,\n",
       "        9.9085861e-01, 2.8077654e-06],\n",
       "       [1.3934454e-03, 3.9559873e-04, 1.2449342e-05, 5.5307383e-03,\n",
       "        9.9266607e-01, 1.7057232e-06],\n",
       "       [1.3219602e-03, 3.7380564e-04, 1.1442352e-05, 5.3178854e-03,\n",
       "        9.9297333e-01, 1.5023705e-06],\n",
       "       ...,\n",
       "       [1.7069029e-02, 9.7476655e-01, 7.8595476e-03, 3.8116107e-06,\n",
       "        3.0092083e-04, 1.3975412e-07],\n",
       "       [1.6561233e-02, 9.5750624e-01, 2.4473978e-02, 6.0570666e-05,\n",
       "        1.3912142e-03, 6.6487869e-06],\n",
       "       [1.1543720e-02, 9.8084807e-01, 6.8278993e-03, 1.3678190e-05,\n",
       "        7.6326728e-04, 3.4677605e-06]], dtype=float32)"
      ]
     },
     "execution_count": 10,
     "metadata": {},
     "output_type": "execute_result"
    }
   ],
   "source": [
    "predictions"
   ]
  },
  {
   "cell_type": "code",
   "execution_count": 11,
   "metadata": {},
   "outputs": [],
   "source": [
    "def display_results(testy,predictions,classNames):\n",
    "    y_test=np.argmax(testy, axis=1)\n",
    "    y_scores=np.argmax(predictions, axis=1)\n",
    "    classes = len(classNames)\n",
    "    cm = confusion_matrix(y_test, y_scores)\n",
    "    print(\"**** Confusion Matrix ****\")\n",
    "    print(cm)\n",
    "    print(\"**** Classification Report ****\")\n",
    "    print(classification_report(y_test, y_scores, target_names=classNames))\n",
    "    con = np.zeros((classes,classes))\n",
    "    for x in range(classes):\n",
    "        for y in range(classes):\n",
    "            con[x,y] = cm[x,y] #/np.sum(cm[x,:])\n",
    "\n",
    "    plt.figure(figsize=(10,8))\n",
    "    df = sns.heatmap(con, annot=True, fmt='g', cmap='Blues',xticklabels= classNames , yticklabels= classNames)\n",
    "    plt.xlabel('Predicted')\n",
    "    plt.ylabel('Actual')\n",
    "    plt.show()"
   ]
  },
  {
   "cell_type": "code",
   "execution_count": 12,
   "metadata": {},
   "outputs": [
    {
     "name": "stdout",
     "output_type": "stream",
     "text": [
      "**** Confusion Matrix ****\n",
      "[[457  16  21   0   2   0]\n",
      " [ 15 395  58   0   3   0]\n",
      " [  4   7 409   0   0   0]\n",
      " [  4   0   0 377 110   0]\n",
      " [  5   5   0  74 448   0]\n",
      " [  0  27   0   0   0 510]]\n",
      "**** Classification Report ****\n",
      "              precision    recall  f1-score   support\n",
      "\n",
      "           1       0.94      0.92      0.93       496\n",
      "           2       0.88      0.84      0.86       471\n",
      "           3       0.84      0.97      0.90       420\n",
      "           4       0.84      0.77      0.80       491\n",
      "           5       0.80      0.84      0.82       532\n",
      "           6       1.00      0.95      0.97       537\n",
      "\n",
      "    accuracy                           0.88      2947\n",
      "   macro avg       0.88      0.88      0.88      2947\n",
      "weighted avg       0.88      0.88      0.88      2947\n",
      "\n"
     ]
    },
    {
     "data": {
      "image/png": "[encoded data removed]",
      "text/plain": [
       "<Figure size 1000x800 with 2 Axes>"
      ]
     },
     "metadata": {},
     "output_type": "display_data"
    }
   ],
   "source": [
    "from sklearn.metrics import confusion_matrix, classification_report\n",
    "classNames=[\"1\",\"2\",\"3\",\"4\",\"5\",\"6\"]\n",
    "display_results(testy,predictions,classNames)"
   ]
  },
  {
   "cell_type": "code",
   "execution_count": 13,
   "metadata": {},
   "outputs": [
    {
     "data": {
      "text/plain": [
       "(128, 9)"
      ]
     },
     "execution_count": 13,
     "metadata": {},
     "output_type": "execute_result"
    }
   ],
   "source": [
    "# we will select the first sample from the test set\n",
    "sample = testX[0]\n",
    "sample.shape"
   ]
  },
  {
   "cell_type": "code",
   "execution_count": 14,
   "metadata": {},
   "outputs": [
    {
     "name": "stdout",
     "output_type": "stream",
     "text": [
      "1/1 [==============================] - 0s 74ms/step\n"
     ]
    }
   ],
   "source": [
    "# predict the results using the model, we need to input in the form of (numberOfSamples,featureLength,numberOfFeatures)\n",
    "predictionForSample = model.predict(sample.reshape(1,sample.shape[0],sample.shape[1]))"
   ]
  },
  {
   "cell_type": "code",
   "execution_count": 15,
   "metadata": {},
   "outputs": [
    {
     "name": "stdout",
     "output_type": "stream",
     "text": [
      "Actual class:  4\n",
      "Predicted class:  4\n"
     ]
    }
   ],
   "source": [
    "# get the class of the sample\n",
    "samplePredictedClass = np.argmax(predictionForSample, axis=1)\n",
    "sampleActualClass = np.argmax(testy, axis=1)\n",
    "print(\"Actual class: \",sampleActualClass[0])\n",
    "print(\"Predicted class: \",samplePredictedClass[0])"
   ]
  },
  {
   "cell_type": "code",
   "execution_count": null,
   "metadata": {},
   "outputs": [],
   "source": []
  }
 ],
 "metadata": {
  "kernelspec": {
   "display_name": "base",
   "language": "python",
   "name": "python3"
  },
  "language_info": {
   "codemirror_mode": {
    "name": "ipython",
    "version": 3
   },
   "file_extension": ".py",
   "mimetype": "text/x-python",
   "name": "python",
   "nbconvert_exporter": "python",
   "pygments_lexer": "ipython3",
   "version": "3.11.4"
  },
  "orig_nbformat": 4
 },
 "nbformat": 4,
 "nbformat_minor": 2
}
